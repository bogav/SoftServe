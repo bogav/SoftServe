{
  "nbformat": 4,
  "nbformat_minor": 0,
  "metadata": {
    "colab": {
      "name": "Motorbike Ambulance Calls.ipynb",
      "version": "0.3.2",
      "provenance": [],
      "collapsed_sections": [],
      "include_colab_link": true
    },
    "kernelspec": {
      "name": "python3",
      "display_name": "Python 3"
    }
  },
  "cells": [
    {
      "cell_type": "markdown",
      "metadata": {
        "id": "view-in-github",
        "colab_type": "text"
      },
      "source": [
        "<a href=\"https://colab.research.google.com/github/bogav/SoftServe/blob/master/Motorbike_Ambulance_Calls.ipynb\" target=\"_parent\"><img src=\"https://colab.research.google.com/assets/colab-badge.svg\" alt=\"Open In Colab\"/></a>"
      ]
    },
    {
      "cell_type": "code",
      "metadata": {
        "id": "q5bnlOKEyQxi",
        "colab_type": "code",
        "colab": {}
      },
      "source": [
        "#Importing libaries\n",
        "\n",
        "import numpy as np\n",
        "import pandas as pd\n",
        "\n",
        "import matplotlib.pyplot as plt\n",
        "%matplotlib inline"
      ],
      "execution_count": 0,
      "outputs": []
    },
    {
      "cell_type": "code",
      "metadata": {
        "id": "cdgXDUrTyZgn",
        "colab_type": "code",
        "colab": {
          "base_uri": "https://localhost:8080/",
          "height": 34
        },
        "outputId": "a85f505a-eff7-4eff-d16e-df0435899bfe"
      },
      "source": [
        "!ls"
      ],
      "execution_count": 3,
      "outputs": [
        {
          "output_type": "stream",
          "text": [
            "sample_data\n"
          ],
          "name": "stdout"
        }
      ]
    },
    {
      "cell_type": "code",
      "metadata": {
        "id": "TYZ6rcipy3RP",
        "colab_type": "code",
        "colab": {
          "base_uri": "https://localhost:8080/",
          "height": 319
        },
        "outputId": "fa9589dd-9c4b-4f42-e016-c019d8bf57f2"
      },
      "source": [
        "# Reading in datasets/book1.csv\n",
        "df = pd.read_csv('motorbike_ambulance_calls.csv', index_col=0, parse_dates=[1])\n",
        "\n",
        "# Printing out the head of the dataset\n",
        "print(df.head())\n",
        "\n",
        "# Printing out the tail of the dataset\n",
        "print(df.tail())"
      ],
      "execution_count": 5,
      "outputs": [
        {
          "output_type": "stream",
          "text": [
            "            date  season  yr  mnth  hr  ...  temp   atemp   hum  windspeed  cnt\n",
            "index                                   ...                                    \n",
            "1     2011-01-01  spring   0     1   0  ...  0.24  0.2879  0.81        0.0   16\n",
            "2     2011-01-01  spring   0     1   1  ...  0.22  0.2727  0.80        0.0   40\n",
            "3     2011-01-01  spring   0     1   2  ...  0.22  0.2727  0.80        0.0   32\n",
            "4     2011-01-01  spring   0     1   3  ...  0.24  0.2879  0.75        0.0   13\n",
            "5     2011-01-01  spring   0     1   4  ...  0.24  0.2879  0.75        0.0    1\n",
            "\n",
            "[5 rows x 14 columns]\n",
            "            date  season  yr  mnth  hr  ...  temp   atemp   hum  windspeed  cnt\n",
            "index                                   ...                                    \n",
            "17375 2012-12-31  spring   1    12  19  ...  0.26  0.2576  0.60     0.1642  119\n",
            "17376 2012-12-31  spring   1    12  20  ...  0.26  0.2576  0.60     0.1642   89\n",
            "17377 2012-12-31  spring   1    12  21  ...  0.26  0.2576  0.60     0.1642   90\n",
            "17378 2012-12-31  spring   1    12  22  ...  0.26  0.2727  0.56     0.1343   61\n",
            "17379 2012-12-31  spring   1    12  23  ...  0.26  0.2727  0.65     0.1343   49\n",
            "\n",
            "[5 rows x 14 columns]\n"
          ],
          "name": "stdout"
        }
      ]
    },
    {
      "cell_type": "code",
      "metadata": {
        "id": "rWyaBRvtEAyn",
        "colab_type": "code",
        "colab": {
          "base_uri": "https://localhost:8080/",
          "height": 336
        },
        "outputId": "f39aab7e-fb8e-4485-8cbc-04ec60273e78"
      },
      "source": [
        "df.info()"
      ],
      "execution_count": 6,
      "outputs": [
        {
          "output_type": "stream",
          "text": [
            "<class 'pandas.core.frame.DataFrame'>\n",
            "Int64Index: 17379 entries, 1 to 17379\n",
            "Data columns (total 14 columns):\n",
            "date          17379 non-null datetime64[ns]\n",
            "season        17379 non-null object\n",
            "yr            17379 non-null int64\n",
            "mnth          17379 non-null int64\n",
            "hr            17379 non-null int64\n",
            "holiday       17379 non-null int64\n",
            "weekday       17379 non-null int64\n",
            "workingday    17379 non-null int64\n",
            "weathersit    17379 non-null int64\n",
            "temp          17379 non-null float64\n",
            "atemp         17379 non-null float64\n",
            "hum           17379 non-null float64\n",
            "windspeed     17379 non-null float64\n",
            "cnt           17379 non-null int64\n",
            "dtypes: datetime64[ns](1), float64(4), int64(8), object(1)\n",
            "memory usage: 2.0+ MB\n"
          ],
          "name": "stdout"
        }
      ]
    },
    {
      "cell_type": "code",
      "metadata": {
        "id": "8yQtSY8FEAzc",
        "colab_type": "code",
        "colab": {
          "base_uri": "https://localhost:8080/",
          "height": 304
        },
        "outputId": "070b550c-9159-4a57-de70-968a91d61443"
      },
      "source": [
        "df.describe()"
      ],
      "execution_count": 57,
      "outputs": [
        {
          "output_type": "execute_result",
          "data": {
            "text/html": [
              "<div>\n",
              "<style scoped>\n",
              "    .dataframe tbody tr th:only-of-type {\n",
              "        vertical-align: middle;\n",
              "    }\n",
              "\n",
              "    .dataframe tbody tr th {\n",
              "        vertical-align: top;\n",
              "    }\n",
              "\n",
              "    .dataframe thead th {\n",
              "        text-align: right;\n",
              "    }\n",
              "</style>\n",
              "<table border=\"1\" class=\"dataframe\">\n",
              "  <thead>\n",
              "    <tr style=\"text-align: right;\">\n",
              "      <th></th>\n",
              "      <th>yr</th>\n",
              "      <th>mnth</th>\n",
              "      <th>hr</th>\n",
              "      <th>holiday</th>\n",
              "      <th>weekday</th>\n",
              "      <th>workingday</th>\n",
              "      <th>weathersit</th>\n",
              "      <th>temp</th>\n",
              "      <th>atemp</th>\n",
              "      <th>hum</th>\n",
              "      <th>windspeed</th>\n",
              "      <th>cnt</th>\n",
              "    </tr>\n",
              "  </thead>\n",
              "  <tbody>\n",
              "    <tr>\n",
              "      <th>count</th>\n",
              "      <td>17379.000000</td>\n",
              "      <td>17379.000000</td>\n",
              "      <td>17379.000000</td>\n",
              "      <td>17379.000000</td>\n",
              "      <td>17379.000000</td>\n",
              "      <td>17379.000000</td>\n",
              "      <td>17379.000000</td>\n",
              "      <td>17379.000000</td>\n",
              "      <td>17379.000000</td>\n",
              "      <td>17379.000000</td>\n",
              "      <td>17379.000000</td>\n",
              "      <td>17379.000000</td>\n",
              "    </tr>\n",
              "    <tr>\n",
              "      <th>mean</th>\n",
              "      <td>0.502561</td>\n",
              "      <td>6.537775</td>\n",
              "      <td>11.546752</td>\n",
              "      <td>0.028770</td>\n",
              "      <td>3.003683</td>\n",
              "      <td>0.682721</td>\n",
              "      <td>1.425283</td>\n",
              "      <td>0.496987</td>\n",
              "      <td>0.475775</td>\n",
              "      <td>0.627229</td>\n",
              "      <td>0.190098</td>\n",
              "      <td>189.463088</td>\n",
              "    </tr>\n",
              "    <tr>\n",
              "      <th>std</th>\n",
              "      <td>0.500008</td>\n",
              "      <td>3.438776</td>\n",
              "      <td>6.914405</td>\n",
              "      <td>0.167165</td>\n",
              "      <td>2.005771</td>\n",
              "      <td>0.465431</td>\n",
              "      <td>0.639357</td>\n",
              "      <td>0.192556</td>\n",
              "      <td>0.171850</td>\n",
              "      <td>0.192930</td>\n",
              "      <td>0.122340</td>\n",
              "      <td>181.387599</td>\n",
              "    </tr>\n",
              "    <tr>\n",
              "      <th>min</th>\n",
              "      <td>0.000000</td>\n",
              "      <td>1.000000</td>\n",
              "      <td>0.000000</td>\n",
              "      <td>0.000000</td>\n",
              "      <td>0.000000</td>\n",
              "      <td>0.000000</td>\n",
              "      <td>1.000000</td>\n",
              "      <td>0.020000</td>\n",
              "      <td>0.000000</td>\n",
              "      <td>0.000000</td>\n",
              "      <td>0.000000</td>\n",
              "      <td>1.000000</td>\n",
              "    </tr>\n",
              "    <tr>\n",
              "      <th>25%</th>\n",
              "      <td>0.000000</td>\n",
              "      <td>4.000000</td>\n",
              "      <td>6.000000</td>\n",
              "      <td>0.000000</td>\n",
              "      <td>1.000000</td>\n",
              "      <td>0.000000</td>\n",
              "      <td>1.000000</td>\n",
              "      <td>0.340000</td>\n",
              "      <td>0.333300</td>\n",
              "      <td>0.480000</td>\n",
              "      <td>0.104500</td>\n",
              "      <td>40.000000</td>\n",
              "    </tr>\n",
              "    <tr>\n",
              "      <th>50%</th>\n",
              "      <td>1.000000</td>\n",
              "      <td>7.000000</td>\n",
              "      <td>12.000000</td>\n",
              "      <td>0.000000</td>\n",
              "      <td>3.000000</td>\n",
              "      <td>1.000000</td>\n",
              "      <td>1.000000</td>\n",
              "      <td>0.500000</td>\n",
              "      <td>0.484800</td>\n",
              "      <td>0.630000</td>\n",
              "      <td>0.194000</td>\n",
              "      <td>142.000000</td>\n",
              "    </tr>\n",
              "    <tr>\n",
              "      <th>75%</th>\n",
              "      <td>1.000000</td>\n",
              "      <td>10.000000</td>\n",
              "      <td>18.000000</td>\n",
              "      <td>0.000000</td>\n",
              "      <td>5.000000</td>\n",
              "      <td>1.000000</td>\n",
              "      <td>2.000000</td>\n",
              "      <td>0.660000</td>\n",
              "      <td>0.621200</td>\n",
              "      <td>0.780000</td>\n",
              "      <td>0.253700</td>\n",
              "      <td>281.000000</td>\n",
              "    </tr>\n",
              "    <tr>\n",
              "      <th>max</th>\n",
              "      <td>1.000000</td>\n",
              "      <td>12.000000</td>\n",
              "      <td>23.000000</td>\n",
              "      <td>1.000000</td>\n",
              "      <td>6.000000</td>\n",
              "      <td>1.000000</td>\n",
              "      <td>4.000000</td>\n",
              "      <td>1.000000</td>\n",
              "      <td>1.000000</td>\n",
              "      <td>1.000000</td>\n",
              "      <td>0.850700</td>\n",
              "      <td>977.000000</td>\n",
              "    </tr>\n",
              "  </tbody>\n",
              "</table>\n",
              "</div>"
            ],
            "text/plain": [
              "                 yr          mnth  ...     windspeed           cnt\n",
              "count  17379.000000  17379.000000  ...  17379.000000  17379.000000\n",
              "mean       0.502561      6.537775  ...      0.190098    189.463088\n",
              "std        0.500008      3.438776  ...      0.122340    181.387599\n",
              "min        0.000000      1.000000  ...      0.000000      1.000000\n",
              "25%        0.000000      4.000000  ...      0.104500     40.000000\n",
              "50%        1.000000      7.000000  ...      0.194000    142.000000\n",
              "75%        1.000000     10.000000  ...      0.253700    281.000000\n",
              "max        1.000000     12.000000  ...      0.850700    977.000000\n",
              "\n",
              "[8 rows x 12 columns]"
            ]
          },
          "metadata": {
            "tags": []
          },
          "execution_count": 57
        }
      ]
    },
    {
      "cell_type": "code",
      "metadata": {
        "id": "ENysbSgxDSat",
        "colab_type": "code",
        "colab": {
          "base_uri": "https://localhost:8080/",
          "height": 67
        },
        "outputId": "e6e03ba2-8a2b-4db6-deed-ec6f585ecf10"
      },
      "source": [
        "print(df.shape)\n",
        "print(2*365*24)\n",
        "\n",
        "print(2*365*24 - df.shape[0])"
      ],
      "execution_count": 56,
      "outputs": [
        {
          "output_type": "stream",
          "text": [
            "(17379, 14)\n",
            "17520\n",
            "141\n"
          ],
          "name": "stdout"
        }
      ]
    },
    {
      "cell_type": "code",
      "metadata": {
        "id": "7BYe60oIz4y0",
        "colab_type": "code",
        "colab": {
          "base_uri": "https://localhost:8080/",
          "height": 883
        },
        "outputId": "3846ba29-5d76-4512-8090-ab69c777433a"
      },
      "source": [
        "df.groupby('yr')['cnt'].plot()\n",
        "df.groupby('yr')[['cnt']].plot()"
      ],
      "execution_count": 37,
      "outputs": [
        {
          "output_type": "execute_result",
          "data": {
            "text/plain": [
              "yr\n",
              "0    AxesSubplot(0.125,0.125;0.775x0.755)\n",
              "1    AxesSubplot(0.125,0.125;0.775x0.755)\n",
              "dtype: object"
            ]
          },
          "metadata": {
            "tags": []
          },
          "execution_count": 37
        },
        {
          "output_type": "display_data",
          "data": {
            "image/png": "[encoded data removed]",
            "text/plain": [
              "<Figure size 432x288 with 1 Axes>"
            ]
          },
          "metadata": {
            "tags": []
          }
        },
        {
          "output_type": "display_data",
          "data": {
            "image/png": "[encoded data removed]",
            "text/plain": [
              "<Figure size 432x288 with 1 Axes>"
            ]
          },
          "metadata": {
            "tags": []
          }
        },
        {
          "output_type": "display_data",
          "data": {
            "image/png": "[encoded data removed]",
            "text/plain": [
              "<Figure size 432x288 with 1 Axes>"
            ]
          },
          "metadata": {
            "tags": []
          }
        }
      ]
    },
    {
      "cell_type": "code",
      "metadata": {
        "id": "y2VA9lSV2iRA",
        "colab_type": "code",
        "colab": {
          "base_uri": "https://localhost:8080/",
          "height": 370
        },
        "outputId": "eba51ea3-c57e-467d-d123-598b4efcd45d"
      },
      "source": [
        "for t in df[df['holiday']==1].drop_duplicates('date')['date']:\n",
        "  print(t)"
      ],
      "execution_count": 43,
      "outputs": [
        {
          "output_type": "stream",
          "text": [
            "2011-01-17 00:00:00\n",
            "2011-02-21 00:00:00\n",
            "2011-04-15 00:00:00\n",
            "2011-05-30 00:00:00\n",
            "2011-07-04 00:00:00\n",
            "2011-09-05 00:00:00\n",
            "2011-10-10 00:00:00\n",
            "2011-11-11 00:00:00\n",
            "2011-11-24 00:00:00\n",
            "2011-12-26 00:00:00\n",
            "2012-01-02 00:00:00\n",
            "2012-01-16 00:00:00\n",
            "2012-02-20 00:00:00\n",
            "2012-04-16 00:00:00\n",
            "2012-05-28 00:00:00\n",
            "2012-07-04 00:00:00\n",
            "2012-09-03 00:00:00\n",
            "2012-10-08 00:00:00\n",
            "2012-11-12 00:00:00\n",
            "2012-11-22 00:00:00\n",
            "2012-12-25 00:00:00\n"
          ],
          "name": "stdout"
        }
      ]
    },
    {
      "cell_type": "code",
      "metadata": {
        "id": "9HUu0yF87TTz",
        "colab_type": "code",
        "colab": {
          "base_uri": "https://localhost:8080/",
          "height": 50
        },
        "outputId": "186c53cb-c3dd-4c19-d42c-e3e6ad425617"
      },
      "source": [
        "for i in [0, 1]:\n",
        "  print(df[df['yr']==i]['cnt'].sum())"
      ],
      "execution_count": 61,
      "outputs": [
        {
          "output_type": "stream",
          "text": [
            "1243103\n",
            "2049576\n"
          ],
          "name": "stdout"
        }
      ]
    },
    {
      "cell_type": "code",
      "metadata": {
        "id": "CPDVIwatB0_S",
        "colab_type": "code",
        "colab": {}
      },
      "source": [
        ""
      ],
      "execution_count": 0,
      "outputs": []
    }
  ]
}